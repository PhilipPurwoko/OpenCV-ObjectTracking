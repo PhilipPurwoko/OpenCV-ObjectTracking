{
 "cells": [
  {
   "cell_type": "code",
   "execution_count": 1,
   "metadata": {},
   "outputs": [],
   "source": [
    "import cv2\n",
    "import numpy as np\n",
    "%matplotlib inline"
   ]
  },
  {
   "cell_type": "code",
   "execution_count": 2,
   "metadata": {},
   "outputs": [],
   "source": [
    "corner_track_parameter = dict(maxCorners = 5, qualityLevel = 0.3, minDistance = 7, blockSize = 7)\n",
    "lk_parameter = dict(winSize=(200,200),maxLevel = 2, criteria = (cv2.TERM_CRITERIA_EPS | cv2.TERM_CRITERIA_COUNT,10,0.03))"
   ]
  },
  {
   "cell_type": "code",
   "execution_count": 3,
   "metadata": {},
   "outputs": [],
   "source": [
    "videoCapture = cv2.VideoCapture(0)\n",
    "_, last_frame = videoCapture.read()\n",
    "last_frame_gray = cv2.cvtColor(last_frame,cv2.COLOR_BGR2GRAY)\n",
    "\n",
    "# Detect points\n",
    "last_points = cv2.goodFeaturesToTrack(last_frame_gray,mask=None,**corner_track_parameter)\n",
    "mask = np.zeros_like(last_frame)\n",
    "\n",
    "while 1:\n",
    "    _, frame = videoCapture.read()\n",
    "    frame_gray = cv2.cvtColor(frame,cv2.COLOR_BGR2GRAY)\n",
    "    \n",
    "    # Optical Flow Pyramid\n",
    "    now_points, status, error = cv2.calcOpticalFlowPyrLK(last_frame_gray,frame_gray,last_points,None,**lk_parameter)\n",
    "    \n",
    "    good_now = now_points[status == 1]\n",
    "    good_last = last_points[status == 1]\n",
    "    \n",
    "    for i,(now,last) in enumerate(zip(good_now,good_last)):\n",
    "        x_now,y_now = now.ravel()\n",
    "        x_last,y_last = last.ravel()\n",
    "        mask = cv2.line(mask,(x_now,y_now),(x_last,y_last),(0,255,0),3)\n",
    "        frame = cv2.circle(frame,(x_now,y_now),8,(0,0,255),-1)\n",
    "    \n",
    "    image = cv2.add(frame,mask)\n",
    "    cv2.imshow('Camera',image)\n",
    "    \n",
    "    if cv2.waitKey(1) == 27:\n",
    "        break\n",
    "    \n",
    "    last_frame_gray = frame_gray.copy()\n",
    "    last_points = good_now.reshape(-1,1,2)\n",
    "\n",
    "videoCapture.release()\n",
    "cv2.destroyAllWindows()"
   ]
  },
  {
   "cell_type": "code",
   "execution_count": null,
   "metadata": {},
   "outputs": [],
   "source": []
  }
 ],
 "metadata": {
  "kernelspec": {
   "display_name": "Python 3",
   "language": "python",
   "name": "python3"
  },
  "language_info": {
   "codemirror_mode": {
    "name": "ipython",
    "version": 3
   },
   "file_extension": ".py",
   "mimetype": "text/x-python",
   "name": "python",
   "nbconvert_exporter": "python",
   "pygments_lexer": "ipython3",
   "version": "3.7.7"
  }
 },
 "nbformat": 4,
 "nbformat_minor": 4
}
